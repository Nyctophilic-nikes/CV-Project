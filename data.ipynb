{
 "cells": [
  {
   "cell_type": "code",
   "execution_count": 2,
   "metadata": {},
   "outputs": [],
   "source": [
    "import sys\n",
    "sys.path.insert(0, '../../wildlife-tools')\n",
    "sys.path.insert(0, '..')\n",
    "\n",
    "import matplotlib.pyplot as plt\n",
    "import pandas as pd\n",
    "import torchvision.transforms as T\n",
    "import timm\n",
    "\n",
    "from wildlife_datasets import datasets\n",
    "from wildlife_tools.data import WildlifeDataset\n",
    "from wildlife_tools.features import DeepFeatures\n",
    "from wildlife_tools.similarity import CosineSimilarity\n",
    "from wildlife_tools.inference import KnnClassifier\n",
    "\n",
    "import os\n",
    "sys.path.append('..')\n",
    "import pandas as pd\n",
    "from wildlife_datasets import datasets, loader, metrics\n",
    "from wildlife_datasets.analysis import display_statistics\n",
    "from wildlife_datasets.splits import visualize_split\n",
    "from wildlife_datasets.splits import TimeCutoffSplit, TimeProportionSplit\n"
   ]
  },
  {
   "cell_type": "code",
   "execution_count": 3,
   "metadata": {},
   "outputs": [],
   "source": [
    "l = []\n",
    "for d_name in datasets.names_all:\n",
    "    try:\n",
    "        # print(d_name.__name__, int(d_name.metadata['reported_n_individuals']))\n",
    "        # d_name.metadata\n",
    "        n = d_name.__name__\n",
    "        d = 'datasets.'+str(n)\n",
    "        l.append(d)\n",
    "    except:\n",
    "        # print(\"yes\")\n",
    "        pass"
   ]
  },
  {
   "cell_type": "code",
   "execution_count": 4,
   "metadata": {},
   "outputs": [
    {
     "data": {
      "text/plain": [
       "['datasets.AAUZebraFish',\n",
       " 'datasets.AerialCattle2017',\n",
       " 'datasets.ATRW',\n",
       " 'datasets.BelugaID',\n",
       " 'datasets.BirdIndividualID',\n",
       " 'datasets.BirdIndividualIDSegmented',\n",
       " 'datasets.CatIndividualImages',\n",
       " 'datasets.CTai',\n",
       " 'datasets.CZoo',\n",
       " 'datasets.CowDataset',\n",
       " 'datasets.Cows2021v2',\n",
       " 'datasets.DogFaceNet',\n",
       " 'datasets.Drosophila',\n",
       " 'datasets.FriesianCattle2015v2',\n",
       " 'datasets.FriesianCattle2017',\n",
       " 'datasets.GiraffeZebraID',\n",
       " 'datasets.Giraffes',\n",
       " 'datasets.GreenSeaTurtles',\n",
       " 'datasets.HappyWhale',\n",
       " 'datasets.HumpbackWhaleID',\n",
       " 'datasets.HyenaID2022',\n",
       " 'datasets.IPanda50',\n",
       " 'datasets.LeopardID2022',\n",
       " 'datasets.LionData',\n",
       " 'datasets.MacaqueFaces',\n",
       " 'datasets.MPDD',\n",
       " 'datasets.NDD20v2',\n",
       " 'datasets.NOAARightWhale',\n",
       " 'datasets.NyalaData',\n",
       " 'datasets.OpenCows2020',\n",
       " 'datasets.PolarBearVidID',\n",
       " 'datasets.SealID',\n",
       " 'datasets.SealIDSegmented',\n",
       " 'datasets.SeaStarReID2023',\n",
       " 'datasets.SeaTurtleID2022',\n",
       " 'datasets.SeaTurtleIDHeads',\n",
       " 'datasets.SMALST',\n",
       " 'datasets.StripeSpotter',\n",
       " 'datasets.WhaleSharkID',\n",
       " 'datasets.ZindiTurtleRecall']"
      ]
     },
     "execution_count": 4,
     "metadata": {},
     "output_type": "execute_result"
    }
   ],
   "source": [
    "l"
   ]
  },
  {
   "cell_type": "code",
   "execution_count": 5,
   "metadata": {},
   "outputs": [],
   "source": [
    "datasets = [\n",
    "    datasets.AAUZebraFish,\n",
    "    datasets.AerialCattle2017,\n",
    "    datasets.ATRW,\n",
    "    datasets.BelugaID,\n",
    "    datasets.BirdIndividualID,\n",
    "    datasets.BirdIndividualIDSegmented,\n",
    "    datasets.CatIndividualImages,\n",
    "    datasets.CTai,\n",
    "    datasets.CZoo,\n",
    "    datasets.CowDataset,\n",
    "    datasets.Cows2021v2,\n",
    "    datasets.DogFaceNet,\n",
    "    datasets.Drosophila,\n",
    "    datasets.FriesianCattle2015v2,\n",
    "    datasets.FriesianCattle2017,\n",
    "    datasets.GiraffeZebraID,\n",
    "    datasets.Giraffes,\n",
    "    datasets.GreenSeaTurtles,\n",
    "    datasets.HappyWhale,\n",
    "    datasets.HumpbackWhaleID,\n",
    "    datasets.HyenaID2022,\n",
    "    datasets.IPanda50,\n",
    "    datasets.LeopardID2022,\n",
    "    datasets.LionData,\n",
    "    datasets.MacaqueFaces,\n",
    "    datasets.MPDD,\n",
    "    datasets.NDD20v2,\n",
    "    datasets.NOAARightWhale,\n",
    "    datasets.NyalaData,\n",
    "    datasets.OpenCows2020,\n",
    "    datasets.PolarBearVidID,\n",
    "    datasets.SealID,\n",
    "    datasets.SealIDSegmented,\n",
    "    datasets.SeaStarReID2023,\n",
    "    datasets.SeaTurtleID2022,\n",
    "    datasets.SeaTurtleIDHeads,\n",
    "    datasets.SMALST,\n",
    "    datasets.StripeSpotter,\n",
    "    datasets.WhaleSharkID,\n",
    "    datasets.ZindiTurtleRecall\n",
    "]\n"
   ]
  },
  {
   "cell_type": "code",
   "execution_count": 6,
   "metadata": {},
   "outputs": [],
   "source": [
    "paths = ['data/' + str(dataset).split('.')[1] for dataset in l]"
   ]
  },
  {
   "cell_type": "code",
   "execution_count": 7,
   "metadata": {},
   "outputs": [
    {
     "name": "stdout",
     "output_type": "stream",
     "text": [
      "['data/AAUZebraFish', 'data/AerialCattle2017', 'data/ATRW', 'data/BelugaID', 'data/BirdIndividualID', 'data/BirdIndividualIDSegmented', 'data/CatIndividualImages', 'data/CTai', 'data/CZoo', 'data/CowDataset', 'data/Cows2021v2', 'data/DogFaceNet', 'data/Drosophila', 'data/FriesianCattle2015v2', 'data/FriesianCattle2017', 'data/GiraffeZebraID', 'data/Giraffes', 'data/GreenSeaTurtles', 'data/HappyWhale', 'data/HumpbackWhaleID', 'data/HyenaID2022', 'data/IPanda50', 'data/LeopardID2022', 'data/LionData', 'data/MacaqueFaces', 'data/MPDD', 'data/NDD20v2', 'data/NOAARightWhale', 'data/NyalaData', 'data/OpenCows2020', 'data/PolarBearVidID', 'data/SealID', 'data/SealIDSegmented', 'data/SeaStarReID2023', 'data/SeaTurtleID2022', 'data/SeaTurtleIDHeads', 'data/SMALST', 'data/StripeSpotter', 'data/WhaleSharkID', 'data/ZindiTurtleRecall']\n"
     ]
    }
   ],
   "source": [
    "print(paths)"
   ]
  },
  {
   "cell_type": "code",
   "execution_count": 8,
   "metadata": {},
   "outputs": [
    {
     "name": "stdout",
     "output_type": "stream",
     "text": [
      "DATASET AAUZebraFish: DOWNLOADING STARTED.\n",
      "DATASET AAUZebraFish: EXTRACTING STARTED.\n",
      "DATASET AAUZebraFish: FINISHED.\n",
      "\n",
      "DATASET AerialCattle2017: DOWNLOADING STARTED.\n"
     ]
    },
    {
     "name": "stderr",
     "output_type": "stream",
     "text": [
      "3owflku95bxsx24643cybxu3qh.zip: 0.00B [00:02, ?B/s]\n"
     ]
    },
    {
     "name": "stdout",
     "output_type": "stream",
     "text": [
      "DATASET ATRW: DOWNLOADING STARTED.\n"
     ]
    },
    {
     "name": "stderr",
     "output_type": "stream",
     "text": [
      "atrw_detection_test.tar.gz: 0.00B [00:01, ?B/s]\n"
     ]
    },
    {
     "name": "stdout",
     "output_type": "stream",
     "text": [
      "DATASET BelugaID: DOWNLOADING STARTED.\n"
     ]
    },
    {
     "name": "stderr",
     "output_type": "stream",
     "text": [
      "beluga.coco.tar.gz: 0.00B [00:01, ?B/s]\n"
     ]
    },
    {
     "name": "stdout",
     "output_type": "stream",
     "text": [
      "DATASET BirdIndividualID: DOWNLOADING STARTED.\n",
      "You are trying to download or extract a segmented dataset.\n",
      "        It is already included in its non-segmented version.\n",
      "        Skipping.\n",
      "DATASET CatIndividualImages: DOWNLOADING STARTED.\n",
      "DATASET CatIndividualImages: EXTRACTING STARTED.\n",
      "DATASET CatIndividualImages: FINISHED.\n",
      "\n",
      "DATASET CTai: DOWNLOADING STARTED.\n"
     ]
    },
    {
     "name": "stderr",
     "output_type": "stream",
     "text": [
      "master.zip: 634MB [05:38, 1.87MB/s] \n"
     ]
    },
    {
     "name": "stdout",
     "output_type": "stream",
     "text": [
      "DATASET CTai: EXTRACTING STARTED.\n",
      "DATASET CTai: FINISHED.\n",
      "\n",
      "DATASET CZoo: DOWNLOADING STARTED.\n"
     ]
    },
    {
     "name": "stderr",
     "output_type": "stream",
     "text": [
      "master.zip: 634MB [04:14, 2.49MB/s] \n"
     ]
    },
    {
     "name": "stdout",
     "output_type": "stream",
     "text": [
      "DATASET CZoo: EXTRACTING STARTED.\n",
      "DATASET CZoo: FINISHED.\n",
      "\n",
      "DATASET CowDataset: DOWNLOADING STARTED.\n"
     ]
    },
    {
     "name": "stderr",
     "output_type": "stream",
     "text": [
      "31210192: 4.45GB [1:27:39, 847kB/s]                                \n"
     ]
    },
    {
     "name": "stdout",
     "output_type": "stream",
     "text": [
      "DATASET CowDataset: EXTRACTING STARTED.\n",
      "DATASET CowDataset: FINISHED.\n",
      "\n",
      "DATASET Cows2021v2: DOWNLOADING STARTED.\n"
     ]
    },
    {
     "name": "stderr",
     "output_type": "stream",
     "text": [
      "4vnrca7qw1642qlwxjadp87h7.zip: 0.00B [00:01, ?B/s]\n"
     ]
    },
    {
     "name": "stdout",
     "output_type": "stream",
     "text": [
      "DATASET DogFaceNet: DOWNLOADING STARTED.\n"
     ]
    },
    {
     "name": "stderr",
     "output_type": "stream",
     "text": [
      "DogFaceNet_Dataset_224_1.zip: 75.6MB [00:06, 12.6MB/s]                              \n"
     ]
    },
    {
     "name": "stdout",
     "output_type": "stream",
     "text": [
      "DATASET DogFaceNet: EXTRACTING STARTED.\n",
      "DATASET DogFaceNet: FINISHED.\n",
      "\n",
      "DATASET Drosophila: DOWNLOADING STARTED.\n"
     ]
    },
    {
     "name": "stderr",
     "output_type": "stream",
     "text": [
      "71066: 1.76GB [32:41, 898kB/s]                                 \n",
      "71067: 1.77GB [33:34, 877kB/s]                                 \n",
      "71068: 1.77GB [30:29, 968kB/s]                                 \n",
      "71069: 1.77GB [27:32, 1.07MB/s]                                \n",
      "71065: 1.25GB [13:27, 1.55MB/s]                                \n",
      "71071: 1.76GB [16:06, 1.82MB/s]                                \n",
      "71072: 1.77GB [38:50, 758kB/s]                                 \n",
      "71073:  20%|██        | 363M/1.77G [34:33<2:14:08, 175kB/s]    \n"
     ]
    },
    {
     "name": "stdout",
     "output_type": "stream",
     "text": [
      "DATASET FriesianCattle2015v2: DOWNLOADING STARTED.\n"
     ]
    },
    {
     "name": "stderr",
     "output_type": "stream",
     "text": [
      "wurzq71kfm561ljahbwjhx9n3.zip: 0.00B [00:01, ?B/s]\n"
     ]
    },
    {
     "name": "stdout",
     "output_type": "stream",
     "text": [
      "DATASET FriesianCattle2017: DOWNLOADING STARTED.\n"
     ]
    },
    {
     "name": "stderr",
     "output_type": "stream",
     "text": [
      "2yizcfbkuv4352pzc32n54371r.zip: 0.00B [00:01, ?B/s]\n"
     ]
    },
    {
     "name": "stdout",
     "output_type": "stream",
     "text": [
      "DATASET GiraffeZebraID: DOWNLOADING STARTED.\n"
     ]
    },
    {
     "name": "stderr",
     "output_type": "stream",
     "text": [
      "gzgc.coco.tar.gz: 0.00B [00:01, ?B/s]\n"
     ]
    },
    {
     "name": "stdout",
     "output_type": "stream",
     "text": [
      "DATASET Giraffes: DOWNLOADING STARTED.\n",
      "DATASET GreenSeaTurtles: DOWNLOADING STARTED.\n",
      "DATASET HappyWhale: DOWNLOADING STARTED.\n",
      "DATASET HumpbackWhaleID: DOWNLOADING STARTED.\n",
      "DATASET HyenaID2022: DOWNLOADING STARTED.\n"
     ]
    },
    {
     "name": "stderr",
     "output_type": "stream",
     "text": [
      "hyena.coco.tar.gz: 0.00B [00:01, ?B/s]\n"
     ]
    },
    {
     "name": "stdout",
     "output_type": "stream",
     "text": [
      "DATASET IPanda50: DOWNLOADING STARTED.\n"
     ]
    },
    {
     "name": "stderr",
     "output_type": "stream",
     "text": [
      "\n",
      " \tCannot retrieve the public link of the file. You may need to change\n",
      "\tthe permission to 'Anyone with the link', or have had many accesses. \n",
      "\n",
      "You may still be able to access the file from the browser:\n",
      "\n",
      "\t https://drive.google.com/uc?id=1nkh-g6a8JvWy-XsMaZqrN2AXoPlaXuFg \n",
      "\n"
     ]
    },
    {
     "name": "stdout",
     "output_type": "stream",
     "text": [
      "Access denied with the following error:\n",
      "Download failed. GDown quota probably reached. Download dataset manually.\n",
      "            Check https://wildlifedatasets.github.io/wildlife-datasets/downloads#ipanda50\n",
      "DATASET LeopardID2022: DOWNLOADING STARTED.\n"
     ]
    },
    {
     "name": "stderr",
     "output_type": "stream",
     "text": [
      "leopard.coco.tar.gz: 0.00B [00:01, ?B/s]\n"
     ]
    },
    {
     "name": "stdout",
     "output_type": "stream",
     "text": [
      "DATASET LionData: DOWNLOADING STARTED.\n"
     ]
    },
    {
     "name": "stderr",
     "output_type": "stream",
     "text": [
      "main.zip: 495MB [02:16, 3.62MB/s] \n"
     ]
    },
    {
     "name": "stdout",
     "output_type": "stream",
     "text": [
      "DATASET LionData: EXTRACTING STARTED.\n",
      "DATASET LionData: FINISHED.\n",
      "\n",
      "DATASET MacaqueFaces: DOWNLOADING STARTED.\n",
      "You are trying to download an already downloaded dataset.\n",
      "        This message may have happened to due interrupted download or extract.\n",
      "        To force the download use the `force=True` keyword such as\n",
      "        get_data(..., force=True) or download(..., force=True).\n",
      "        \n",
      "DATASET MPDD: DOWNLOADING STARTED.\n"
     ]
    },
    {
     "name": "stderr",
     "output_type": "stream",
     "text": [
      "v5j6m8dzhv-1.zip: 29.6MB [00:26, 1.11MB/s]                              \n"
     ]
    },
    {
     "name": "stdout",
     "output_type": "stream",
     "text": [
      "DATASET MPDD: EXTRACTING STARTED.\n",
      "DATASET MPDD: FINISHED.\n",
      "\n",
      "DATASET NDD20v2: DOWNLOADING STARTED.\n"
     ]
    },
    {
     "name": "stderr",
     "output_type": "stream",
     "text": [
      "22774175: 2.44GB [33:57, 1.20MB/s]                                \n"
     ]
    },
    {
     "name": "stdout",
     "output_type": "stream",
     "text": [
      "DATASET NDD20v2: EXTRACTING STARTED.\n",
      "DATASET NDD20v2: FINISHED.\n",
      "\n",
      "DATASET NOAARightWhale: DOWNLOADING STARTED.\n",
      "DATASET NyalaData: DOWNLOADING STARTED.\n"
     ]
    },
    {
     "name": "stderr",
     "output_type": "stream",
     "text": [
      "main.zip: 495MB [02:12, 3.73MB/s] \n"
     ]
    },
    {
     "name": "stdout",
     "output_type": "stream",
     "text": [
      "DATASET NyalaData: EXTRACTING STARTED.\n",
      "DATASET NyalaData: FINISHED.\n",
      "\n",
      "DATASET OpenCows2020: DOWNLOADING STARTED.\n"
     ]
    },
    {
     "name": "stderr",
     "output_type": "stream",
     "text": [
      "10m32xl88x2b61zlkkgz3fml17.zip: 0.00B [00:01, ?B/s]\n"
     ]
    },
    {
     "name": "stdout",
     "output_type": "stream",
     "text": [
      "DATASET PolarBearVidID: DOWNLOADING STARTED.\n"
     ]
    },
    {
     "name": "stderr",
     "output_type": "stream",
     "text": [
      "PolarBearVidID.zip?download=1: 1.57GB [24:39, 1.06MB/s]                               \n"
     ]
    },
    {
     "name": "stdout",
     "output_type": "stream",
     "text": [
      "DATASET PolarBearVidID: EXTRACTING STARTED.\n",
      "DATASET PolarBearVidID: FINISHED.\n",
      "\n",
      "DATASET SealID: DOWNLOADING STARTED.\n",
      "You are trying to download or extract a segmented dataset.\n",
      "        It is already included in its non-segmented version.\n",
      "        Skipping.\n",
      "DATASET SeaStarReID2023: DOWNLOADING STARTED.\n"
     ]
    },
    {
     "name": "stderr",
     "output_type": "stream",
     "text": [
      "sea-star-re-id.zip: 1.87GB [02:02, 15.3MB/s]                                \n"
     ]
    },
    {
     "name": "stdout",
     "output_type": "stream",
     "text": [
      "DATASET SeaStarReID2023: EXTRACTING STARTED.\n",
      "DATASET SeaStarReID2023: FINISHED.\n",
      "\n",
      "DATASET SeaTurtleID2022: DOWNLOADING STARTED.\n",
      "DATASET SeaTurtleID2022: EXTRACTING STARTED.\n",
      "DATASET SeaTurtleID2022: FINISHED.\n",
      "\n",
      "DATASET SeaTurtleIDHeads: DOWNLOADING STARTED.\n",
      "DATASET SeaTurtleIDHeads: EXTRACTING STARTED.\n",
      "DATASET SeaTurtleIDHeads: FINISHED.\n",
      "\n",
      "DATASET SMALST: DOWNLOADING STARTED.\n"
     ]
    },
    {
     "name": "stderr",
     "output_type": "stream",
     "text": [
      "\n",
      " \tCannot retrieve the public link of the file. You may need to change\n",
      "\tthe permission to 'Anyone with the link', or have had many accesses. \n",
      "\n",
      "You may still be able to access the file from the browser:\n",
      "\n",
      "\t https://drive.google.com/uc?id=1yVy4--M4CNfE5x9wUr1QBmAXEcWb6PWF \n",
      "\n"
     ]
    },
    {
     "name": "stdout",
     "output_type": "stream",
     "text": [
      "Access denied with the following error:\n",
      "Download failed. GDown quota probably reached. Download dataset manually.\n",
      "            Check https://wildlifedatasets.github.io/wildlife-datasets/downloads#smalst\n",
      "DATASET StripeSpotter: DOWNLOADING STARTED.\n"
     ]
    },
    {
     "name": "stderr",
     "output_type": "stream",
     "text": [
      "data-20110718.zip: 71.7MB [00:06, 11.9MB/s]                              \n",
      "data-20110718.z02: 100%|██████████| 78.6M/78.6M [00:07<00:00, 11.0MB/s]  \n",
      "data-20110718.z01: 100%|██████████| 78.6M/78.6M [00:08<00:00, 9.36MB/s]  \n"
     ]
    },
    {
     "name": "stdout",
     "output_type": "stream",
     "text": [
      "DATASET StripeSpotter: EXTRACTING STARTED.\n",
      "DATASET WhaleSharkID: DOWNLOADING STARTED.\n"
     ]
    },
    {
     "name": "stderr",
     "output_type": "stream",
     "text": [
      "whaleshark.coco.tar.gz: 0.00B [00:01, ?B/s]\n"
     ]
    },
    {
     "name": "stdout",
     "output_type": "stream",
     "text": [
      "DATASET ZindiTurtleRecall: DOWNLOADING STARTED.\n"
     ]
    },
    {
     "name": "stderr",
     "output_type": "stream",
     "text": [
      "train.csv: 73.7kB [00:03, 21.1kB/s]                            \n",
      "extra_images.csv: 279kB [00:02, 112kB/s]                             \n",
      "test.csv: 16.4kB [00:00, 20.9kB/s]                            \n",
      "images.tar: 6.48GB [11:02, 9.79MB/s]                                \n"
     ]
    },
    {
     "name": "stdout",
     "output_type": "stream",
     "text": [
      "DATASET ZindiTurtleRecall: EXTRACTING STARTED.\n",
      "DATASET ZindiTurtleRecall: FINISHED.\n",
      "\n"
     ]
    }
   ],
   "source": [
    "not_downloaded = []\n",
    "for i in range(len(l)):\n",
    "    try:\n",
    "        root = paths[i]\n",
    "        datasets[i].get_data(root)\n",
    "    except:\n",
    "        not_downloaded.append(datasets[i])\n",
    "        pass"
   ]
  },
  {
   "cell_type": "code",
   "execution_count": 9,
   "metadata": {},
   "outputs": [
    {
     "data": {
      "text/plain": [
       "[wildlife_datasets.datasets.datasets.AerialCattle2017,\n",
       " wildlife_datasets.datasets.datasets.ATRW,\n",
       " wildlife_datasets.datasets.datasets.BelugaID,\n",
       " wildlife_datasets.datasets.datasets.BirdIndividualID,\n",
       " wildlife_datasets.datasets.datasets.Cows2021v2,\n",
       " wildlife_datasets.datasets.datasets.Drosophila,\n",
       " wildlife_datasets.datasets.datasets.FriesianCattle2015v2,\n",
       " wildlife_datasets.datasets.datasets.FriesianCattle2017,\n",
       " wildlife_datasets.datasets.datasets.GiraffeZebraID,\n",
       " wildlife_datasets.datasets.datasets.Giraffes,\n",
       " wildlife_datasets.datasets.datasets.GreenSeaTurtles,\n",
       " wildlife_datasets.datasets.datasets.HappyWhale,\n",
       " wildlife_datasets.datasets.datasets.HumpbackWhaleID,\n",
       " wildlife_datasets.datasets.datasets.HyenaID2022,\n",
       " wildlife_datasets.datasets.datasets.IPanda50,\n",
       " wildlife_datasets.datasets.datasets.LeopardID2022,\n",
       " wildlife_datasets.datasets.datasets.NOAARightWhale,\n",
       " wildlife_datasets.datasets.datasets.OpenCows2020,\n",
       " wildlife_datasets.datasets.datasets.SealID,\n",
       " wildlife_datasets.datasets.datasets.SMALST,\n",
       " wildlife_datasets.datasets.datasets.StripeSpotter,\n",
       " wildlife_datasets.datasets.datasets.WhaleSharkID]"
      ]
     },
     "execution_count": 9,
     "metadata": {},
     "output_type": "execute_result"
    }
   ],
   "source": [
    "not_downloaded"
   ]
  },
  {
   "cell_type": "code",
   "execution_count": null,
   "metadata": {},
   "outputs": [],
   "source": []
  }
 ],
 "metadata": {
  "kernelspec": {
   "display_name": "Python 3",
   "language": "python",
   "name": "python3"
  },
  "language_info": {
   "codemirror_mode": {
    "name": "ipython",
    "version": 3
   },
   "file_extension": ".py",
   "mimetype": "text/x-python",
   "name": "python",
   "nbconvert_exporter": "python",
   "pygments_lexer": "ipython3",
   "version": "3.12.1"
  }
 },
 "nbformat": 4,
 "nbformat_minor": 2
}
